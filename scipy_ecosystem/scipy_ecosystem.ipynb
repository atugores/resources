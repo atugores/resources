{
 "cells": [
  {
   "cell_type": "markdown",
   "metadata": {
    "nbpresent": {
     "id": "479c50dc-edfb-490c-984a-44215a31e4d7"
    }
   },
   "source": [
    "# SciPy ecosystem history"
   ]
  },
  {
   "cell_type": "markdown",
   "metadata": {
    "nbpresent": {
     "id": "b56cba0d-83d5-41bd-b691-18f7f3cae8ce"
    }
   },
   "source": [
    "# but fist..."
   ]
  },
  {
   "cell_type": "markdown",
   "metadata": {
    "nbpresent": {
     "id": "dc9e7d85-5920-4573-86f1-2e81d3469fe9"
    }
   },
   "source": [
    "# late 1989...\n",
    "<img src=\"images/GuidoAvatar_400x400.jpg\" width=\\\"200\\\">\n",
    "Guido van Rossum"
   ]
  },
  {
   "cell_type": "markdown",
   "metadata": {
    "nbpresent": {
     "id": "0ec93091-c9ff-40cd-aa50-3f1b013b439e"
    }
   },
   "source": [
    "# October 16, 2000\n",
    "# Python 2.0\n",
    "\n",
    "<img src=\"images/python-logo.png\" width=\\\"100\\\">\n"
   ]
  },
  {
   "cell_type": "markdown",
   "metadata": {
    "nbpresent": {
     "id": "c32a3edd-443e-4169-bbb6-b5ad9f0d1205"
    }
   },
   "source": [
    "# December 3, 2008\n",
    "# Python 3.0\n",
    "\n",
    "<img src=\"images/python-logo.png\" width=\\\"10\\\">"
   ]
  },
  {
   "cell_type": "markdown",
   "metadata": {
    "nbpresent": {
     "id": "3b45f4a6-793c-430a-ad13-58cd90b694b4"
    }
   },
   "source": [
    "# back to SciPy..."
   ]
  },
  {
   "cell_type": "markdown",
   "metadata": {
    "nbpresent": {
     "id": "d8151f3d-0095-4de6-990f-17cacb911cb9"
    }
   },
   "source": [
    "# In the begining (1995) there was Numeric\n",
    "\n",
    "\n",
    "**Jin Hugunin**, Jim fulton, David Ascher, Paul Dubois, Konrad Hinsen"
   ]
  },
  {
   "cell_type": "markdown",
   "metadata": {
    "nbpresent": {
     "id": "35a628d2-2f43-4c23-8b69-8a20ade707fe"
    }
   },
   "source": [
    "# 1998\n",
    "<img src=\"images/travis_oliphant.jpg\">\n",
    "Travis Oliphant"
   ]
  },
  {
   "cell_type": "markdown",
   "metadata": {
    "nbpresent": {
     "id": "8eb90fbe-d9b4-4400-86e0-2c7a79b2b93a"
    }
   },
   "source": [
    "came across Python\n",
    "\n",
    "got involved in Numeric (wrapped C and Fortran code into Python)\n",
    "\n",
    "Pearu Peterson started writing f2py"
   ]
  },
  {
   "cell_type": "markdown",
   "metadata": {
    "nbpresent": {
     "id": "e00f2032-4ad4-462c-a529-04056b33bd1c"
    }
   },
   "source": [
    "# 2001\n",
    "\n",
    "# Travis Oliphant + Eric Jones\n",
    "\n",
    "Wanted to combine their modules into a super-package"
   ]
  },
  {
   "cell_type": "markdown",
   "metadata": {
    "nbpresent": {
     "id": "8afa2d1a-a1f8-4850-87fe-44957b9cc17a"
    }
   },
   "source": [
    "<img src=\"images/scipy.png\">"
   ]
  },
  {
   "cell_type": "markdown",
   "metadata": {
    "nbpresent": {
     "id": "8d7bb45c-2aa6-4513-946a-6c5597c195af"
    }
   },
   "source": [
    "# 2005\n",
    "\n",
    "\n",
    "## Difficult to stabilize Scipy\n",
    "\n",
    "limited capabilities of Numeric\n",
    "\n",
    "difficult to deal with memory mapped files"
   ]
  },
  {
   "cell_type": "markdown",
   "metadata": {
    "nbpresent": {
     "id": "c6f46afe-6f61-4d3e-b82d-805e6c1813d6"
    }
   },
   "source": [
    "# numarray was created\n",
    "\n",
    "## but....\n",
    "it was difficult for Scipy to \"convert\" to numarray (well adapted to Numeric)"
   ]
  },
  {
   "cell_type": "markdown",
   "metadata": {
    "nbpresent": {
     "id": "0c43f60e-4a11-4711-848d-ead5e9e569cb"
    }
   },
   "source": [
    "# 2005\n",
    "### Travis Oliphant\n",
    "\n",
    "bring the diverging community together\n",
    "\n",
    "added\n",
    " + numarray features to Numeric\n",
    "\n",
    " + new features and enhancements \n"
   ]
  },
  {
   "cell_type": "markdown",
   "metadata": {
    "nbpresent": {
     "id": "2c86ae3a-284a-4825-98ee-2f940ae2453d"
    }
   },
   "source": [
    "# late 2006\n",
    "<img src=\"images/numpy_project_page.jpg\" width=\\\"195\\\">"
   ]
  },
  {
   "cell_type": "markdown",
   "metadata": {
    "nbpresent": {
     "id": "f78511f9-b131-49dc-ad62-b799253515af"
    }
   },
   "source": [
    "basic objects, basic linear algebra, FFT\n",
    "\n",
    "random number generators, enhanced build and distribution\n",
    "\n",
    "unit-testing, f2py\n"
   ]
  },
  {
   "cell_type": "markdown",
   "metadata": {
    "nbpresent": {
     "id": "31f16267-2fb2-434b-bac8-0c0c39577db5"
    }
   },
   "source": [
    "# Now\n",
    "\n",
    "**Numpy** provides efficient operation on arrays of homogeneous data\n",
    "\n",
    "**Scipy** is a set of scientific and numerical tools"
   ]
  },
  {
   "cell_type": "markdown",
   "metadata": {
    "nbpresent": {
     "id": "95faf5a6-bbc8-401e-886a-41af2a2a60dc"
    }
   },
   "source": [
    "# Editors?"
   ]
  },
  {
   "cell_type": "markdown",
   "metadata": {
    "nbpresent": {
     "id": "f6a48d48-cfc0-4c86-bb19-6510c78d060a"
    }
   },
   "source": [
    "## powerful interactive shell\n",
    "\n",
    "offers introspection, rich media, shell syntax, tab completion, and history.\n"
   ]
  },
  {
   "cell_type": "markdown",
   "metadata": {
    "nbpresent": {
     "id": "4631af37-fadf-4652-ab76-e2a257d16c6c"
    }
   },
   "source": [
    "# 2008\n",
    "\n",
    "## first release\n",
    "\n",
    "<img src=\"images/ipython.png\">\n"
   ]
  },
  {
   "cell_type": "markdown",
   "metadata": {
    "nbpresent": {
     "id": "18220b74-e6bd-4944-85b6-648b168d5c7e"
    }
   },
   "source": [
    "\n",
    "# 2013\n",
    "\n",
    "## 1.0\n",
    "\n",
    "<img src=\"images/ipython.png\">"
   ]
  },
  {
   "cell_type": "markdown",
   "metadata": {
    "nbpresent": {
     "id": "af092bde-79e8-472d-b34f-e9a74407af0c"
    }
   },
   "source": [
    "# 2014\n",
    "\n",
    "<img src=\"images/fperez.jpg\">\n",
    "\n",
    "Fernando Pérez"
   ]
  },
  {
   "cell_type": "markdown",
   "metadata": {
    "nbpresent": {
     "id": "bece2576-b091-415d-93c3-4a146408bd20"
    }
   },
   "source": [
    "<img src=\"images/jupyter-logo.png\">\n",
    "\n",
    "\n",
    "spin-off project from IPython called Project Jupyter"
   ]
  },
  {
   "cell_type": "markdown",
   "metadata": {
    "nbpresent": {
     "id": "e0cbdb53-6bb8-440d-9f85-244805e0729f"
    }
   },
   "source": [
    "# plotting?"
   ]
  },
  {
   "cell_type": "markdown",
   "metadata": {
    "nbpresent": {
     "id": "b0559491-46f5-4f2a-8cde-60d755d4a196"
    }
   },
   "source": [
    "# 2002\n",
    "\n",
    "<img src=\"images/John-hunter-headshot.jpg\">\n",
    "\n",
    " \n",
    " John Hunter"
   ]
  },
  {
   "cell_type": "markdown",
   "metadata": {
    "nbpresent": {
     "id": "c4639e46-6725-4c36-be58-a206b36ebf6d"
    }
   },
   "source": [
    "patch to IPython to enable interactive MatLab-style plotting via gnuplot\n",
    "\n",
    "early boost when it was adopted as the plotting package of choice of the Space Telescope Science Institute\n"
   ]
  },
  {
   "cell_type": "markdown",
   "metadata": {
    "nbpresent": {
     "id": "31a68a2b-e2a9-407c-985a-3a6057d75750"
    }
   },
   "source": [
    "# 2003\n",
    "\n",
    "<img src=\"images/matplotlib.jpg\">"
   ]
  },
  {
   "cell_type": "markdown",
   "metadata": {
    "nbpresent": {
     "id": "1c249da8-7e8d-4e57-99e7-0c154796f2dc"
    }
   },
   "source": [
    "# what about data science?"
   ]
  },
  {
   "cell_type": "markdown",
   "metadata": {
    "nbpresent": {
     "id": "5aacc7e9-d51f-4231-a2c7-9d574d8036a0"
    }
   },
   "source": [
    "# 2008\n",
    "\n",
    "<img src=\"images/wes_mckinney.jpg\">\n",
    "\n",
    "Wes McKinney"
   ]
  },
  {
   "cell_type": "markdown",
   "metadata": {
    "nbpresent": {
     "id": "7be50f4b-f822-4606-9c2c-2c7d3488375d"
    }
   },
   "source": [
    "<img src=\"images/pandas_logo.png\">"
   ]
  },
  {
   "cell_type": "markdown",
   "metadata": {
    "nbpresent": {
     "id": "cf025e20-7a79-40cf-88b5-49ad880df7e0"
    }
   },
   "source": [
    "# By the end of 2009\n",
    "\n",
    "# open sourced\n",
    "\n",
    "actively supported today by Lambda Foundry"
   ]
  },
  {
   "cell_type": "markdown",
   "metadata": {
    "nbpresent": {
     "id": "f4286ddc-5779-44f3-9fe9-43f183cc2afd"
    }
   },
   "source": [
    "# and..."
   ]
  },
  {
   "cell_type": "markdown",
   "metadata": {
    "nbpresent": {
     "id": "fff150c9-9978-4a4b-a55b-93d994565572"
    }
   },
   "source": [
    "# 2007\n",
    "## Google Summer of Code project\n",
    "<img src=\"images/cournapeau.jpg\" width=200>\n",
    "\n",
    "David Cournapeau"
   ]
  },
  {
   "cell_type": "markdown",
   "metadata": {
    "nbpresent": {
     "id": "4e9ab06a-f4dd-4aa2-8db5-597ef3f9110c"
    }
   },
   "source": [
    "<img src=\"images/scikit-learn-logo.png\" width=400>"
   ]
  },
  {
   "cell_type": "markdown",
   "metadata": {
    "nbpresent": {
     "id": "9bc835fe-8b0b-4104-bd6d-f38e7c20a6d8"
    }
   },
   "source": [
    "# 2008\n",
    "Matthieu Brucher started work on this project as part of his thesis.\n",
    "\n",
    "# 2010\n",
    "Fabian Pedregosa, Gael Varoquaux, Alexandre Gramfort and Vincent Michel (INRIA) and made the first public release, February the 1st 2010"
   ]
  },
  {
   "cell_type": "markdown",
   "metadata": {
    "nbpresent": {
     "id": "e724371a-bd9a-4c7f-ab8e-fb337b2da48b"
    }
   },
   "source": [
    "."
   ]
  },
  {
   "cell_type": "markdown",
   "metadata": {
    "nbpresent": {
     "id": "ea7190f2-2661-4d73-a73e-4cb97f4f053b"
    }
   },
   "source": [
    "# 1992\n",
    "\n",
    "R is an implementation of the S programming language combined with lexical scoping semantics inspired by Scheme.\n",
    "\n",
    "R was created by Ross Ihaka and Robert Gentleman"
   ]
  },
  {
   "cell_type": "markdown",
   "metadata": {
    "nbpresent": {
     "id": "42440e19-7aa1-4733-94d9-51670904784b"
    }
   },
   "source": [
    "\n",
    "### Initial version 1995\n",
    "### Stable version 2000\n",
    "<img src=\"images/r-lang.png\">"
   ]
  },
  {
   "cell_type": "markdown",
   "metadata": {
    "nbpresent": {
     "id": "87f7eb91-a7d9-45fc-99f9-2d7f2cb974de"
    }
   },
   "source": [
    "."
   ]
  },
  {
   "cell_type": "markdown",
   "metadata": {
    "nbpresent": {
     "id": "19ef158b-b976-4863-9bd0-a659256680ca"
    }
   },
   "source": [
    "# 2012\n",
    "\n",
    "<img src=\"images/Julia-Computing.png\" width=1000>\n",
    "Keno Fischer, Viral Shah, Stefan Karpinski, Alan Edelman, and Jeff Bezanson.\n"
   ]
  },
  {
   "cell_type": "markdown",
   "metadata": {
    "nbpresent": {
     "id": "ccd4beae-5cc8-423e-99b3-1281abe8f936"
    }
   },
   "source": [
    "\n",
    "<img src=\"images/Julia_prog_language.svg.png\" width=300>\n",
    "open source C and Fortran libraries for linear algebra, random number generation, signal processing, and string processing\n",
    "\n",
    "free alternative to proprietary tools for doing data science, like MathWorks’ MATLAB and Wolfram’s Mathematica\n",
    "\n",
    "more contemporary than open-source languages R and Python"
   ]
  },
  {
   "cell_type": "markdown",
   "metadata": {
    "nbpresent": {
     "id": "b2d4742a-e3c7-41e5-b4b3-72e3d2f0188a"
    }
   },
   "source": [
    "# What about a keynote on Python? R? Julia?"
   ]
  }
 ],
 "metadata": {
  "anaconda-cloud": {},
  "kernelspec": {
   "display_name": "Django Shell-Plus",
   "language": "python",
   "name": "django_extensions"
  },
  "language_info": {
   "codemirror_mode": {
    "name": "ipython",
    "version": 2
   },
   "file_extension": ".py",
   "mimetype": "text/x-python",
   "name": "python",
   "nbconvert_exporter": "python",
   "pygments_lexer": "ipython2",
   "version": "2.7.12"
  },
  "nbpresent": {
   "slides": {
    "03379bef-83d0-42e9-bdb4-02e4aa2abe41": {
     "id": "03379bef-83d0-42e9-bdb4-02e4aa2abe41",
     "prev": "ff09e9fc-0e0c-4d37-9d97-636eaef1877a",
     "regions": {
      "ecf71d31-4f96-4703-b11c-aad0f5129926": {
       "attrs": {
        "height": 0.8,
        "width": 0.8,
        "x": 0.1,
        "y": 0.1
       },
       "content": {
        "cell": "c6f46afe-6f61-4d3e-b82d-805e6c1813d6",
        "part": "whole"
       },
       "id": "ecf71d31-4f96-4703-b11c-aad0f5129926"
      }
     }
    },
    "0946ec44-af5f-4f28-a23e-0f545200e8be": {
     "id": "0946ec44-af5f-4f28-a23e-0f545200e8be",
     "prev": "29277260-ea0f-4993-bcd3-70973d34c01d",
     "regions": {
      "9e100c27-a09b-4e0d-944d-cd2ac9f38387": {
       "attrs": {
        "height": 0.8,
        "width": 0.8,
        "x": 0.1,
        "y": 0.1
       },
       "content": {
        "cell": "ccd4beae-5cc8-423e-99b3-1281abe8f936",
        "part": "whole"
       },
       "id": "9e100c27-a09b-4e0d-944d-cd2ac9f38387"
      }
     }
    },
    "0c76a370-9266-4abf-a7ab-f527948f450e": {
     "id": "0c76a370-9266-4abf-a7ab-f527948f450e",
     "prev": "4d9be165-6a63-440e-b65a-a413bcd72377",
     "regions": {
      "90115a0c-168b-40d2-8371-73c71dde8ccb": {
       "attrs": {
        "height": 0.8,
        "width": 0.8,
        "x": 0.1,
        "y": 0.1
       },
       "content": {
        "cell": "b0559491-46f5-4f2a-8cde-60d755d4a196",
        "part": "whole"
       },
       "id": "90115a0c-168b-40d2-8371-73c71dde8ccb"
      }
     }
    },
    "121826bf-56df-42f1-80bc-572479b3bacd": {
     "id": "121826bf-56df-42f1-80bc-572479b3bacd",
     "prev": "0c76a370-9266-4abf-a7ab-f527948f450e",
     "regions": {
      "0a0449c1-d831-4288-a138-ff8707780a50": {
       "attrs": {
        "height": 0.8,
        "width": 0.8,
        "x": 0.1,
        "y": 0.1
       },
       "content": {
        "cell": "c4639e46-6725-4c36-be58-a206b36ebf6d",
        "part": "whole"
       },
       "id": "0a0449c1-d831-4288-a138-ff8707780a50"
      }
     }
    },
    "1b143dd0-e05c-4ad7-871c-df11f585f3db": {
     "id": "1b143dd0-e05c-4ad7-871c-df11f585f3db",
     "prev": "ff8833c6-8dc4-4513-8b74-0935c818cf67",
     "regions": {
      "6e88f1c5-f432-4470-886a-7e1a8d453452": {
       "attrs": {
        "height": 0.8,
        "width": 0.8,
        "x": 0.1,
        "y": 0.1
       },
       "content": {
        "cell": "8afa2d1a-a1f8-4850-87fe-44957b9cc17a",
        "part": "whole"
       },
       "id": "6e88f1c5-f432-4470-886a-7e1a8d453452"
      }
     }
    },
    "1b5af2f5-f80e-45b6-b180-557cd4d198e4": {
     "id": "1b5af2f5-f80e-45b6-b180-557cd4d198e4",
     "prev": "957f670a-b8aa-4a42-a846-69c9f884e552",
     "regions": {
      "0beb2522-0238-413a-a70b-f428ec2dc3bb": {
       "attrs": {
        "height": 0.8,
        "width": 0.8,
        "x": 0.1,
        "y": 0.1
       },
       "content": {
        "cell": "35a628d2-2f43-4c23-8b69-8a20ade707fe",
        "part": "whole"
       },
       "id": "0beb2522-0238-413a-a70b-f428ec2dc3bb"
      }
     }
    },
    "24d84af4-502d-45aa-ba1e-5ae82eb5bfdb": {
     "id": "24d84af4-502d-45aa-ba1e-5ae82eb5bfdb",
     "prev": "766151b3-29f7-42ac-9c5d-e12d0f71a34f",
     "regions": {
      "6ee172fa-6299-4bf5-8ce3-ad547b94f495": {
       "attrs": {
        "height": 0.8,
        "width": 0.8,
        "x": 0.1,
        "y": 0.1
       },
       "content": {
        "cell": "dc9e7d85-5920-4573-86f1-2e81d3469fe9",
        "part": "whole"
       },
       "id": "6ee172fa-6299-4bf5-8ce3-ad547b94f495"
      }
     }
    },
    "29277260-ea0f-4993-bcd3-70973d34c01d": {
     "id": "29277260-ea0f-4993-bcd3-70973d34c01d",
     "prev": "8cc1f8c8-536c-4dcf-8f1c-88c7f78c51bd",
     "regions": {
      "3b7b8fe1-b89b-4db7-a6d9-bd4bce9f51a4": {
       "attrs": {
        "height": 0.8,
        "width": 0.8,
        "x": 0.1,
        "y": 0.1
       },
       "content": {
        "cell": "19ef158b-b976-4863-9bd0-a659256680ca",
        "part": "whole"
       },
       "id": "3b7b8fe1-b89b-4db7-a6d9-bd4bce9f51a4"
      }
     }
    },
    "2fa99df3-f0c5-4196-9a7b-9fd067377e58": {
     "id": "2fa99df3-f0c5-4196-9a7b-9fd067377e58",
     "prev": "6d84b027-fadb-49e9-89e2-c87d78b96134",
     "regions": {
      "075fcced-cd8d-4695-b406-c9e8bb348b36": {
       "attrs": {
        "height": 0.8,
        "width": 0.8,
        "x": 0.1,
        "y": 0.1
       },
       "content": {
        "cell": "4e9ab06a-f4dd-4aa2-8db5-597ef3f9110c",
        "part": "whole"
       },
       "id": "075fcced-cd8d-4695-b406-c9e8bb348b36"
      }
     }
    },
    "4928169c-8329-4f33-94e2-1857ac14d619": {
     "id": "4928169c-8329-4f33-94e2-1857ac14d619",
     "prev": "121826bf-56df-42f1-80bc-572479b3bacd",
     "regions": {
      "36d25394-abba-4559-8475-93b0caa3b387": {
       "attrs": {
        "height": 0.8,
        "width": 0.8,
        "x": 0.1,
        "y": 0.1
       },
       "content": {
        "cell": "31a68a2b-e2a9-407c-985a-3a6057d75750",
        "part": "whole"
       },
       "id": "36d25394-abba-4559-8475-93b0caa3b387"
      }
     }
    },
    "4d9be165-6a63-440e-b65a-a413bcd72377": {
     "id": "4d9be165-6a63-440e-b65a-a413bcd72377",
     "prev": "b5c8e36f-a003-4ed9-8771-2ce0f6ddaae1",
     "regions": {
      "31e49a97-43c2-4cd6-a29f-683dfae54453": {
       "attrs": {
        "height": 0.8,
        "width": 0.8,
        "x": 0.1,
        "y": 0.1
       },
       "content": {
        "cell": "e0cbdb53-6bb8-440d-9f85-244805e0729f",
        "part": "whole"
       },
       "id": "31e49a97-43c2-4cd6-a29f-683dfae54453"
      }
     }
    },
    "4f121e6e-503d-4f7b-a435-6542c2596729": {
     "id": "4f121e6e-503d-4f7b-a435-6542c2596729",
     "prev": "d4a5cf01-7803-469d-af42-459a438fb05b",
     "regions": {
      "54faad81-81f5-4ae7-bce2-b345fd7ece47": {
       "attrs": {
        "height": 0.8,
        "width": 0.8,
        "x": 0.1,
        "y": 0.1
       },
       "content": {
        "cell": "4631af37-fadf-4652-ab76-e2a257d16c6c",
        "part": "whole"
       },
       "id": "54faad81-81f5-4ae7-bce2-b345fd7ece47"
      }
     }
    },
    "53c9b15c-272e-4e32-bfea-710c14cdef37": {
     "id": "53c9b15c-272e-4e32-bfea-710c14cdef37",
     "prev": null,
     "regions": {
      "0b3cde67-94ef-4aca-b741-b2a25072bfa0": {
       "attrs": {
        "height": 0.8,
        "width": 0.8,
        "x": 0.1,
        "y": 0.1
       },
       "content": {
        "cell": "b9d1c86c-629d-46d3-894f-104a09ba522e",
        "part": "whole"
       },
       "id": "0b3cde67-94ef-4aca-b741-b2a25072bfa0"
      }
     }
    },
    "5dcb906b-487b-4892-9216-a1e8a2e0827a": {
     "id": "5dcb906b-487b-4892-9216-a1e8a2e0827a",
     "prev": "8093308f-bb8a-443a-9dd0-b609b9b44506",
     "regions": {
      "b47fe8a9-9167-492b-9583-4e7c452f9d3a": {
       "attrs": {
        "height": 0.8,
        "width": 0.8,
        "x": 0.1,
        "y": 0.1
       },
       "content": {
        "cell": "ea7190f2-2661-4d73-a73e-4cb97f4f053b",
        "part": "whole"
       },
       "id": "b47fe8a9-9167-492b-9583-4e7c452f9d3a"
      }
     }
    },
    "6d84b027-fadb-49e9-89e2-c87d78b96134": {
     "id": "6d84b027-fadb-49e9-89e2-c87d78b96134",
     "prev": "7dc44d34-5012-4adf-993a-aed079d0b8a7",
     "regions": {
      "4cb441d7-349b-465f-8a84-a08cbb456f5f": {
       "attrs": {
        "height": 0.8,
        "width": 0.8,
        "x": 0.1,
        "y": 0.1
       },
       "content": {
        "cell": "fff150c9-9978-4a4b-a55b-93d994565572",
        "part": "whole"
       },
       "id": "4cb441d7-349b-465f-8a84-a08cbb456f5f"
      }
     }
    },
    "766151b3-29f7-42ac-9c5d-e12d0f71a34f": {
     "id": "766151b3-29f7-42ac-9c5d-e12d0f71a34f",
     "prev": "eafaa200-ace6-445b-9c93-6669725e57c4",
     "regions": {
      "6b50801b-8a03-472a-b593-ff4b408d1644": {
       "attrs": {
        "height": 0.8,
        "width": 0.8,
        "x": 0.1,
        "y": 0.1
       },
       "content": {
        "cell": "b56cba0d-83d5-41bd-b691-18f7f3cae8ce",
        "part": "whole"
       },
       "id": "6b50801b-8a03-472a-b593-ff4b408d1644"
      }
     }
    },
    "7ce815b0-0b83-44fb-aaee-77be91fe0a9b": {
     "id": "7ce815b0-0b83-44fb-aaee-77be91fe0a9b",
     "prev": "efc27605-dd01-459d-8b5b-c57bd93e0c29",
     "regions": {
      "72ba1583-aebc-497e-9130-b5038de8fcbb": {
       "attrs": {
        "height": 0.8,
        "width": 0.8,
        "x": 0.1,
        "y": 0.1
       },
       "content": {
        "cell": "cf025e20-7a79-40cf-88b5-49ad880df7e0",
        "part": "whole"
       },
       "id": "72ba1583-aebc-497e-9130-b5038de8fcbb"
      }
     }
    },
    "7dc44d34-5012-4adf-993a-aed079d0b8a7": {
     "id": "7dc44d34-5012-4adf-993a-aed079d0b8a7",
     "prev": "7ce815b0-0b83-44fb-aaee-77be91fe0a9b",
     "regions": {
      "0ad8a381-e99f-48ab-a7f9-b1bf4c1e92fb": {
       "attrs": {
        "height": 0.8,
        "width": 0.8,
        "x": 0.1,
        "y": 0.1
       },
       "content": {
        "cell": "f4286ddc-5779-44f3-9fe9-43f183cc2afd",
        "part": "whole"
       },
       "id": "0ad8a381-e99f-48ab-a7f9-b1bf4c1e92fb"
      }
     }
    },
    "7ee8f7d1-f3e1-4c6c-8a19-75f1846d90bb": {
     "id": "7ee8f7d1-f3e1-4c6c-8a19-75f1846d90bb",
     "prev": "fe7518c5-c251-4587-80cb-0a265e3367ca",
     "regions": {
      "15af7627-a017-42ee-af27-ab835573237f": {
       "attrs": {
        "height": 0.8,
        "width": 0.8,
        "x": 0.1,
        "y": 0.1
       },
       "content": {
        "cell": "c32a3edd-443e-4169-bbb6-b5ad9f0d1205",
        "part": "whole"
       },
       "id": "15af7627-a017-42ee-af27-ab835573237f"
      }
     }
    },
    "8093308f-bb8a-443a-9dd0-b609b9b44506": {
     "id": "8093308f-bb8a-443a-9dd0-b609b9b44506",
     "prev": "bdea3b57-5891-4e75-ae3b-858e850f45f8",
     "regions": {
      "60489a33-453e-4107-bec8-522447c71936": {
       "attrs": {
        "height": 0.8,
        "width": 0.8,
        "x": 0.1,
        "y": 0.1
       },
       "content": {
        "cell": "e724371a-bd9a-4c7f-ab8e-fb337b2da48b",
        "part": "whole"
       },
       "id": "60489a33-453e-4107-bec8-522447c71936"
      }
     }
    },
    "809db105-6f73-44a4-809a-33939680bd8f": {
     "id": "809db105-6f73-44a4-809a-33939680bd8f",
     "prev": "7ee8f7d1-f3e1-4c6c-8a19-75f1846d90bb",
     "regions": {
      "7a3c60f2-96d6-42bb-ba5e-aba4141c1732": {
       "attrs": {
        "height": 0.8,
        "width": 0.8,
        "x": 0.1,
        "y": 0.1
       },
       "content": {
        "cell": "3b45f4a6-793c-430a-ad13-58cd90b694b4",
        "part": "whole"
       },
       "id": "7a3c60f2-96d6-42bb-ba5e-aba4141c1732"
      }
     }
    },
    "8cc1f8c8-536c-4dcf-8f1c-88c7f78c51bd": {
     "id": "8cc1f8c8-536c-4dcf-8f1c-88c7f78c51bd",
     "prev": "fbf8a3de-eb31-429e-b1e9-9b2ab90c80d1",
     "regions": {
      "9e35ec0e-721f-4c8d-add3-3db28b22a657": {
       "attrs": {
        "height": 0.8,
        "width": 0.8,
        "x": 0.1,
        "y": 0.1
       },
       "content": {
        "cell": "87f7eb91-a7d9-45fc-99f9-2d7f2cb974de",
        "part": "whole"
       },
       "id": "9e35ec0e-721f-4c8d-add3-3db28b22a657"
      }
     }
    },
    "8e9923c3-dbad-4129-ab79-9c4ad33f0db3": {
     "id": "8e9923c3-dbad-4129-ab79-9c4ad33f0db3",
     "prev": "af029658-7b48-444b-a6de-e23c5d15906b",
     "regions": {
      "19cad01d-4cb2-4e72-99d0-0eeff219e6ed": {
       "attrs": {
        "height": 0.8,
        "width": 0.8,
        "x": 0.1,
        "y": 0.1
       },
       "content": {
        "cell": "af092bde-79e8-472d-b34f-e9a74407af0c",
        "part": "whole"
       },
       "id": "19cad01d-4cb2-4e72-99d0-0eeff219e6ed"
      }
     }
    },
    "957f670a-b8aa-4a42-a846-69c9f884e552": {
     "id": "957f670a-b8aa-4a42-a846-69c9f884e552",
     "prev": "809db105-6f73-44a4-809a-33939680bd8f",
     "regions": {
      "d0237206-b333-42c6-83db-707ad2376478": {
       "attrs": {
        "height": 0.8,
        "width": 0.8,
        "x": 0.1,
        "y": 0.1
       },
       "content": {
        "cell": "d8151f3d-0095-4de6-990f-17cacb911cb9",
        "part": "whole"
       },
       "id": "d0237206-b333-42c6-83db-707ad2376478"
      }
     }
    },
    "a0ba4bcb-e2fd-440e-85e7-e5177df082b3": {
     "id": "a0ba4bcb-e2fd-440e-85e7-e5177df082b3",
     "prev": "b396b6d1-8912-45bb-81b1-4d2170377769",
     "regions": {
      "08984020-b903-4dfa-8d42-31749f6979bb": {
       "attrs": {
        "height": 0.8,
        "width": 0.8,
        "x": 0.1,
        "y": 0.1
       },
       "content": {
        "cell": "f78511f9-b131-49dc-ad62-b799253515af",
        "part": "whole"
       },
       "id": "08984020-b903-4dfa-8d42-31749f6979bb"
      }
     }
    },
    "ae75fdad-b459-4c0a-85ed-18baba13d97c": {
     "id": "ae75fdad-b459-4c0a-85ed-18baba13d97c",
     "prev": "53c9b15c-272e-4e32-bfea-710c14cdef37",
     "regions": {
      "822f13d3-b51b-4c7a-81eb-f8cc619454d7": {
       "attrs": {
        "height": 0.8,
        "width": 0.8,
        "x": 0.1,
        "y": 0.1
       },
       "content": {
        "cell": "476d090b-6d5a-463e-ae13-c4e3f278c12d",
        "part": "whole"
       },
       "id": "822f13d3-b51b-4c7a-81eb-f8cc619454d7"
      }
     }
    },
    "af029658-7b48-444b-a6de-e23c5d15906b": {
     "id": "af029658-7b48-444b-a6de-e23c5d15906b",
     "prev": "4f121e6e-503d-4f7b-a435-6542c2596729",
     "regions": {
      "58e5395b-cddb-43a7-9e6d-a7eec427064d": {
       "attrs": {
        "height": 0.8,
        "width": 0.8,
        "x": 0.1,
        "y": 0.1
       },
       "content": {
        "cell": "18220b74-e6bd-4944-85b6-648b168d5c7e",
        "part": "whole"
       },
       "id": "58e5395b-cddb-43a7-9e6d-a7eec427064d"
      }
     }
    },
    "b396b6d1-8912-45bb-81b1-4d2170377769": {
     "id": "b396b6d1-8912-45bb-81b1-4d2170377769",
     "prev": "d167150d-ee53-4b4a-8b75-1185b3640972",
     "regions": {
      "01387796-2d49-4692-95cb-41098bdc54fc": {
       "attrs": {
        "height": 0.8,
        "width": 0.8,
        "x": 0.1,
        "y": 0.1
       },
       "content": {
        "cell": "2c86ae3a-284a-4825-98ee-2f940ae2453d",
        "part": "whole"
       },
       "id": "01387796-2d49-4692-95cb-41098bdc54fc"
      }
     }
    },
    "b5c8e36f-a003-4ed9-8771-2ce0f6ddaae1": {
     "id": "b5c8e36f-a003-4ed9-8771-2ce0f6ddaae1",
     "prev": "8e9923c3-dbad-4129-ab79-9c4ad33f0db3",
     "regions": {
      "2bbec103-4cb9-4861-b947-b9cd75279768": {
       "attrs": {
        "height": 0.8,
        "width": 0.8,
        "x": 0.1,
        "y": 0.1
       },
       "content": {
        "cell": "bece2576-b091-415d-93c3-4a146408bd20",
        "part": "whole"
       },
       "id": "2bbec103-4cb9-4861-b947-b9cd75279768"
      }
     }
    },
    "bdea3b57-5891-4e75-ae3b-858e850f45f8": {
     "id": "bdea3b57-5891-4e75-ae3b-858e850f45f8",
     "prev": "2fa99df3-f0c5-4196-9a7b-9fd067377e58",
     "regions": {
      "de2e649e-7e2d-4156-bb2c-980525d35ce2": {
       "attrs": {
        "height": 0.8,
        "width": 0.8,
        "x": 0.1,
        "y": 0.1
       },
       "content": {
        "cell": "9bc835fe-8b0b-4104-bd6d-f38e7c20a6d8",
        "part": "whole"
       },
       "id": "de2e649e-7e2d-4156-bb2c-980525d35ce2"
      }
     }
    },
    "c5838677-32ea-4dd9-a9dd-7f10735b85e6": {
     "id": "c5838677-32ea-4dd9-a9dd-7f10735b85e6",
     "prev": "4928169c-8329-4f33-94e2-1857ac14d619",
     "regions": {
      "13681a08-a583-45fb-acba-cfe8a593dd18": {
       "attrs": {
        "height": 0.8,
        "width": 0.8,
        "x": 0.1,
        "y": 0.1
       },
       "content": {
        "cell": "1c249da8-7e8d-4e57-99e7-0c154796f2dc",
        "part": "whole"
       },
       "id": "13681a08-a583-45fb-acba-cfe8a593dd18"
      }
     }
    },
    "caf255d6-7269-477a-a309-7523d6d154f7": {
     "id": "caf255d6-7269-477a-a309-7523d6d154f7",
     "prev": "c5838677-32ea-4dd9-a9dd-7f10735b85e6",
     "regions": {
      "69a34644-8340-43a2-a377-f56e0f4f4220": {
       "attrs": {
        "height": 0.8,
        "width": 0.8,
        "x": 0.1,
        "y": 0.1
       },
       "content": {
        "cell": "5aacc7e9-d51f-4231-a2c7-9d574d8036a0",
        "part": "whole"
       },
       "id": "69a34644-8340-43a2-a377-f56e0f4f4220"
      }
     }
    },
    "cd0f2531-6304-4446-8074-275f6e033aa6": {
     "id": "cd0f2531-6304-4446-8074-275f6e033aa6",
     "prev": "d7e65ed7-5453-423b-ac87-5cdac5a712c4",
     "regions": {
      "22f2ca93-d5ca-4b82-b67a-5467779c2721": {
       "attrs": {
        "height": 0.8,
        "width": 0.8,
        "x": 0.1,
        "y": 0.1
       },
       "content": {
        "cell": "95faf5a6-bbc8-401e-886a-41af2a2a60dc",
        "part": "whole"
       },
       "id": "22f2ca93-d5ca-4b82-b67a-5467779c2721"
      }
     }
    },
    "d167150d-ee53-4b4a-8b75-1185b3640972": {
     "id": "d167150d-ee53-4b4a-8b75-1185b3640972",
     "prev": "03379bef-83d0-42e9-bdb4-02e4aa2abe41",
     "regions": {
      "85b6713f-53b3-422c-b041-758fe93388b3": {
       "attrs": {
        "height": 0.8,
        "width": 0.8,
        "x": 0.1,
        "y": 0.1
       },
       "content": {
        "cell": "0c43f60e-4a11-4711-848d-ead5e9e569cb",
        "part": "whole"
       },
       "id": "85b6713f-53b3-422c-b041-758fe93388b3"
      }
     }
    },
    "d2b7c756-948d-48d7-842c-c3f3009c5ebe": {
     "id": "d2b7c756-948d-48d7-842c-c3f3009c5ebe",
     "prev": "1b5af2f5-f80e-45b6-b180-557cd4d198e4",
     "regions": {
      "4c17a821-e3ff-4e02-8676-7efb69a9f3b7": {
       "attrs": {
        "height": 0.8,
        "width": 0.8,
        "x": 0.1,
        "y": 0.1
       },
       "content": {
        "cell": "8eb90fbe-d9b4-4400-86e0-2c7a79b2b93a",
        "part": "whole"
       },
       "id": "4c17a821-e3ff-4e02-8676-7efb69a9f3b7"
      }
     }
    },
    "d4a5cf01-7803-469d-af42-459a438fb05b": {
     "id": "d4a5cf01-7803-469d-af42-459a438fb05b",
     "prev": "cd0f2531-6304-4446-8074-275f6e033aa6",
     "regions": {
      "777c06be-f2ad-4403-b8db-b116b1f3ab6b": {
       "attrs": {
        "height": 0.8,
        "width": 0.8,
        "x": 0.1,
        "y": 0.1
       },
       "content": {
        "cell": "f6a48d48-cfc0-4c86-bb19-6510c78d060a",
        "part": "whole"
       },
       "id": "777c06be-f2ad-4403-b8db-b116b1f3ab6b"
      }
     }
    },
    "d7e65ed7-5453-423b-ac87-5cdac5a712c4": {
     "id": "d7e65ed7-5453-423b-ac87-5cdac5a712c4",
     "prev": "a0ba4bcb-e2fd-440e-85e7-e5177df082b3",
     "regions": {
      "6c69ef61-b0b9-45f0-a93d-27a659afe054": {
       "attrs": {
        "height": 0.8,
        "width": 0.8,
        "x": 0.1,
        "y": 0.1
       },
       "content": {
        "cell": "31f16267-2fb2-434b-bac8-0c0c39577db5",
        "part": "whole"
       },
       "id": "6c69ef61-b0b9-45f0-a93d-27a659afe054"
      }
     }
    },
    "e63d287b-aac1-450c-88d0-240ff597adf3": {
     "id": "e63d287b-aac1-450c-88d0-240ff597adf3",
     "prev": "0946ec44-af5f-4f28-a23e-0f545200e8be",
     "regions": {
      "8c072b4f-25bd-47a0-ba20-9aedfd4716bc": {
       "attrs": {
        "height": 0.8,
        "width": 0.8,
        "x": 0.1,
        "y": 0.1
       },
       "content": {
        "cell": "b2d4742a-e3c7-41e5-b4b3-72e3d2f0188a",
        "part": "whole"
       },
       "id": "8c072b4f-25bd-47a0-ba20-9aedfd4716bc"
      }
     }
    },
    "eafaa200-ace6-445b-9c93-6669725e57c4": {
     "id": "eafaa200-ace6-445b-9c93-6669725e57c4",
     "prev": "ae75fdad-b459-4c0a-85ed-18baba13d97c",
     "regions": {
      "84044d7b-b7fa-4235-be34-db765c935eba": {
       "attrs": {
        "height": 0.8,
        "width": 0.8,
        "x": 0.1,
        "y": 0.1
       },
       "content": {
        "cell": "479c50dc-edfb-490c-984a-44215a31e4d7",
        "part": "whole"
       },
       "id": "84044d7b-b7fa-4235-be34-db765c935eba"
      }
     }
    },
    "efc27605-dd01-459d-8b5b-c57bd93e0c29": {
     "id": "efc27605-dd01-459d-8b5b-c57bd93e0c29",
     "prev": "caf255d6-7269-477a-a309-7523d6d154f7",
     "regions": {
      "30958665-a046-4554-a4c7-88da99487c5f": {
       "attrs": {
        "height": 0.8,
        "width": 0.8,
        "x": 0.1,
        "y": 0.1
       },
       "content": {
        "cell": "7be50f4b-f822-4606-9c2c-2c7d3488375d",
        "part": "whole"
       },
       "id": "30958665-a046-4554-a4c7-88da99487c5f"
      }
     }
    },
    "fbf8a3de-eb31-429e-b1e9-9b2ab90c80d1": {
     "id": "fbf8a3de-eb31-429e-b1e9-9b2ab90c80d1",
     "prev": "5dcb906b-487b-4892-9216-a1e8a2e0827a",
     "regions": {
      "d7253f99-db6d-4d44-969c-347266e4e2ea": {
       "attrs": {
        "height": 0.8,
        "width": 0.8,
        "x": 0.1,
        "y": 0.1
       },
       "content": {
        "cell": "42440e19-7aa1-4733-94d9-51670904784b",
        "part": "whole"
       },
       "id": "d7253f99-db6d-4d44-969c-347266e4e2ea"
      }
     }
    },
    "fe7518c5-c251-4587-80cb-0a265e3367ca": {
     "id": "fe7518c5-c251-4587-80cb-0a265e3367ca",
     "prev": "24d84af4-502d-45aa-ba1e-5ae82eb5bfdb",
     "regions": {
      "fa67b2da-2d2a-4963-81dc-7d5536f29dd1": {
       "attrs": {
        "height": 0.8,
        "width": 0.8,
        "x": 0.1,
        "y": 0.1
       },
       "content": {
        "cell": "0ec93091-c9ff-40cd-aa50-3f1b013b439e",
        "part": "whole"
       },
       "id": "fa67b2da-2d2a-4963-81dc-7d5536f29dd1"
      }
     }
    },
    "ff09e9fc-0e0c-4d37-9d97-636eaef1877a": {
     "id": "ff09e9fc-0e0c-4d37-9d97-636eaef1877a",
     "prev": "1b143dd0-e05c-4ad7-871c-df11f585f3db",
     "regions": {
      "562363cd-4e14-42a5-b95f-24d6556b37c2": {
       "attrs": {
        "height": 0.8,
        "width": 0.8,
        "x": 0.1,
        "y": 0.1
       },
       "content": {
        "cell": "8d7bb45c-2aa6-4513-946a-6c5597c195af",
        "part": "whole"
       },
       "id": "562363cd-4e14-42a5-b95f-24d6556b37c2"
      }
     }
    },
    "ff8833c6-8dc4-4513-8b74-0935c818cf67": {
     "id": "ff8833c6-8dc4-4513-8b74-0935c818cf67",
     "prev": "d2b7c756-948d-48d7-842c-c3f3009c5ebe",
     "regions": {
      "db42c77a-b1e8-42e1-a63f-8c3053029e5a": {
       "attrs": {
        "height": 0.8,
        "width": 0.8,
        "x": 0.1,
        "y": 0.1
       },
       "content": {
        "cell": "e00f2032-4ad4-462c-a529-04056b33bd1c",
        "part": "whole"
       },
       "id": "db42c77a-b1e8-42e1-a63f-8c3053029e5a"
      }
     }
    }
   },
   "themes": {
    "default": "738164cd-65f1-4420-925d-e4aec3873665",
    "theme": {
     "738164cd-65f1-4420-925d-e4aec3873665": {
      "id": "738164cd-65f1-4420-925d-e4aec3873665",
      "palette": {
       "19cc588f-0593-49c9-9f4b-e4d7cc113b1c": {
        "id": "19cc588f-0593-49c9-9f4b-e4d7cc113b1c",
        "rgb": [
         252,
         252,
         252
        ]
       },
       "31af15d2-7e15-44c5-ab5e-e04b16a89eff": {
        "id": "31af15d2-7e15-44c5-ab5e-e04b16a89eff",
        "rgb": [
         68,
         68,
         68
        ]
       },
       "50f92c45-a630-455b-aec3-788680ec7410": {
        "id": "50f92c45-a630-455b-aec3-788680ec7410",
        "rgb": [
         155,
         177,
         192
        ]
       },
       "c5cc3653-2ee1-402a-aba2-7caae1da4f6c": {
        "id": "c5cc3653-2ee1-402a-aba2-7caae1da4f6c",
        "rgb": [
         43,
         126,
         184
        ]
       },
       "efa7f048-9acb-414c-8b04-a26811511a21": {
        "id": "efa7f048-9acb-414c-8b04-a26811511a21",
        "rgb": [
         25.118061674008803,
         73.60176211453744,
         107.4819383259912
        ]
       }
      },
      "rules": {
       "blockquote": {
        "color": "50f92c45-a630-455b-aec3-788680ec7410"
       },
       "code": {
        "font-family": "Anonymous Pro"
       },
       "h1": {
        "color": "c5cc3653-2ee1-402a-aba2-7caae1da4f6c",
        "font-family": "Lato",
        "font-size": 8
       },
       "h2": {
        "color": "c5cc3653-2ee1-402a-aba2-7caae1da4f6c",
        "font-family": "Lato",
        "font-size": 6
       },
       "h3": {
        "color": "50f92c45-a630-455b-aec3-788680ec7410",
        "font-family": "Lato",
        "font-size": 5.5
       },
       "h4": {
        "color": "c5cc3653-2ee1-402a-aba2-7caae1da4f6c",
        "font-family": "Lato",
        "font-size": 5
       },
       "h5": {
        "font-family": "Lato"
       },
       "h6": {
        "font-family": "Lato"
       },
       "h7": {
        "font-family": "Lato"
       },
       "pre": {
        "font-family": "Anonymous Pro",
        "font-size": 4
       }
      },
      "text-base": {
       "font-family": "Merriweather",
       "font-size": 4
      }
     },
     "ed831426-c70f-4dcc-9b4d-800b095df587": {
      "backgrounds": {
       "dc7afa04-bf90-40b1-82a5-726e3cff5267": {
        "background-color": "31af15d2-7e15-44c5-ab5e-e04b16a89eff",
        "id": "dc7afa04-bf90-40b1-82a5-726e3cff5267"
       }
      },
      "id": "ed831426-c70f-4dcc-9b4d-800b095df587",
      "palette": {
       "19cc588f-0593-49c9-9f4b-e4d7cc113b1c": {
        "id": "19cc588f-0593-49c9-9f4b-e4d7cc113b1c",
        "rgb": [
         252,
         252,
         252
        ]
       },
       "31af15d2-7e15-44c5-ab5e-e04b16a89eff": {
        "id": "31af15d2-7e15-44c5-ab5e-e04b16a89eff",
        "rgb": [
         68,
         68,
         68
        ]
       },
       "50f92c45-a630-455b-aec3-788680ec7410": {
        "id": "50f92c45-a630-455b-aec3-788680ec7410",
        "rgb": [
         197,
         226,
         245
        ]
       },
       "c5cc3653-2ee1-402a-aba2-7caae1da4f6c": {
        "id": "c5cc3653-2ee1-402a-aba2-7caae1da4f6c",
        "rgb": [
         43,
         126,
         184
        ]
       },
       "efa7f048-9acb-414c-8b04-a26811511a21": {
        "id": "efa7f048-9acb-414c-8b04-a26811511a21",
        "rgb": [
         25.118061674008803,
         73.60176211453744,
         107.4819383259912
        ]
       }
      },
      "rules": {
       "a": {
        "color": "19cc588f-0593-49c9-9f4b-e4d7cc113b1c"
       },
       "blockquote": {
        "color": "50f92c45-a630-455b-aec3-788680ec7410",
        "font-size": 3
       },
       "code": {
        "font-family": "Anonymous Pro"
       },
       "h1": {
        "color": "19cc588f-0593-49c9-9f4b-e4d7cc113b1c",
        "font-family": "Merriweather",
        "font-size": 8
       },
       "h2": {
        "color": "19cc588f-0593-49c9-9f4b-e4d7cc113b1c",
        "font-family": "Merriweather",
        "font-size": 6
       },
       "h3": {
        "color": "50f92c45-a630-455b-aec3-788680ec7410",
        "font-family": "Lato",
        "font-size": 5.5
       },
       "h4": {
        "color": "c5cc3653-2ee1-402a-aba2-7caae1da4f6c",
        "font-family": "Lato",
        "font-size": 5
       },
       "h5": {
        "font-family": "Lato"
       },
       "h6": {
        "font-family": "Lato"
       },
       "h7": {
        "font-family": "Lato"
       },
       "li": {
        "color": "50f92c45-a630-455b-aec3-788680ec7410",
        "font-size": 3.25
       },
       "pre": {
        "font-family": "Anonymous Pro",
        "font-size": 4
       }
      },
      "text-base": {
       "color": "19cc588f-0593-49c9-9f4b-e4d7cc113b1c",
       "font-family": "Lato",
       "font-size": 4
      }
     }
    }
   }
  }
 },
 "nbformat": 4,
 "nbformat_minor": 1
}
